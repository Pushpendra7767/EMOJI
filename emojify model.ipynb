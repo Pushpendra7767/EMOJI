{
 "cells": [
  {
   "cell_type": "code",
   "execution_count": 1,
   "metadata": {},
   "outputs": [
    {
     "name": "stderr",
     "output_type": "stream",
     "text": [
      "C:\\Users\\Avinash\\Anaconda3\\lib\\site-packages\\h5py\\__init__.py:36: FutureWarning: Conversion of the second argument of issubdtype from `float` to `np.floating` is deprecated. In future, it will be treated as `np.float64 == np.dtype(float).type`.\n",
      "  from ._conv import register_converters as _register_converters\n",
      "Using TensorFlow backend.\n"
     ]
    }
   ],
   "source": [
    "import keras\n",
    "from keras.layers import Dense,Conv2D,MaxPooling2D,Flatten,Dropout\n",
    "from keras.models import Sequential\n",
    "from keras.preprocessing.image import ImageDataGenerator\n",
    "import numpy as np\n",
    "import cv2\n",
    "import matplotlib.pyplot as plt"
   ]
  },
  {
   "cell_type": "code",
   "execution_count": 2,
   "metadata": {},
   "outputs": [
    {
     "name": "stderr",
     "output_type": "stream",
     "text": [
      "C:\\Users\\Avinash\\Anaconda3\\lib\\site-packages\\ipykernel_launcher.py:13: UserWarning: Update your `Dense` call to the Keras 2 API: `Dense(activation=\"relu\", units=32)`\n",
      "  del sys.path[0]\n",
      "C:\\Users\\Avinash\\Anaconda3\\lib\\site-packages\\ipykernel_launcher.py:14: UserWarning: Update your `Dense` call to the Keras 2 API: `Dense(activation=\"softmax\", units=7)`\n",
      "  \n"
     ]
    }
   ],
   "source": [
    "model=Sequential()\n",
    "\n",
    "model.add(Conv2D(32,(3,3),activation='relu',input_shape=(48,48,3)))\n",
    "model.add(MaxPooling2D(pool_size=(3,3)))\n",
    "\n",
    "model.add(Dropout(0.25))\n",
    "\n",
    "model.add(Conv2D(64,(3,3),activation='relu',input_shape=(48,48,3)))\n",
    "model.add(MaxPooling2D(pool_size=(3,3)))\n",
    "\n",
    "model.add(Flatten())\n",
    "\n",
    "model.add(Dense(output_dim=32,activation='relu'))\n",
    "model.add(Dense(output_dim=7,activation='softmax'))\n",
    "\n",
    "\n",
    "model.compile(loss ='categorical_crossentropy', optimizer='adam',metrics =['accuracy'])"
   ]
  },
  {
   "cell_type": "code",
   "execution_count": 3,
   "metadata": {},
   "outputs": [
    {
     "name": "stdout",
     "output_type": "stream",
     "text": [
      "_________________________________________________________________\n",
      "Layer (type)                 Output Shape              Param #   \n",
      "=================================================================\n",
      "conv2d_1 (Conv2D)            (None, 46, 46, 32)        896       \n",
      "_________________________________________________________________\n",
      "max_pooling2d_1 (MaxPooling2 (None, 15, 15, 32)        0         \n",
      "_________________________________________________________________\n",
      "dropout_1 (Dropout)          (None, 15, 15, 32)        0         \n",
      "_________________________________________________________________\n",
      "conv2d_2 (Conv2D)            (None, 13, 13, 64)        18496     \n",
      "_________________________________________________________________\n",
      "max_pooling2d_2 (MaxPooling2 (None, 4, 4, 64)          0         \n",
      "_________________________________________________________________\n",
      "flatten_1 (Flatten)          (None, 1024)              0         \n",
      "_________________________________________________________________\n",
      "dense_1 (Dense)              (None, 32)                32800     \n",
      "_________________________________________________________________\n",
      "dense_2 (Dense)              (None, 7)                 231       \n",
      "=================================================================\n",
      "Total params: 52,423\n",
      "Trainable params: 52,423\n",
      "Non-trainable params: 0\n",
      "_________________________________________________________________\n"
     ]
    }
   ],
   "source": [
    "model.summary()"
   ]
  },
  {
   "cell_type": "code",
   "execution_count": 24,
   "metadata": {},
   "outputs": [
    {
     "name": "stdout",
     "output_type": "stream",
     "text": [
      "Found 21492 images belonging to 7 classes.\n",
      "Found 4387 images belonging to 7 classes.\n"
     ]
    }
   ],
   "source": [
    "train_datagen = ImageDataGenerator(\n",
    "        rescale=1./255,\n",
    "        shear_range=0.2,\n",
    "        zoom_range=0.2,\n",
    "        horizontal_flip=True)\n",
    "\n",
    "test_datagen = ImageDataGenerator(rescale=1./255)\n",
    "\n",
    "train_generator = train_datagen.flow_from_directory(\n",
    "        'C:/Users/Avinash/Downloads/facial/fer2013/Training',\n",
    "        target_size=(48, 48),\n",
    "        batch_size=32)\n",
    "\n",
    "validation_generator = test_datagen.flow_from_directory(\n",
    "        'C:/Users/Avinash/Downloads/facial/fer2013/validation',\n",
    "        target_size=(48, 48),\n",
    "        batch_size=32)\n",
    "\n"
   ]
  },
  {
   "cell_type": "code",
   "execution_count": 10,
   "metadata": {},
   "outputs": [
    {
     "name": "stdout",
     "output_type": "stream",
     "text": [
      "Epoch 1/5\n",
      "1500/1500 [==============================] - 440s 293ms/step - loss: 1.6799 - acc: 0.3291 - val_loss: 1.4929 - val_acc: 0.4369\n",
      "Epoch 2/5\n",
      "1500/1500 [==============================] - 160s 107ms/step - loss: 1.4852 - acc: 0.4286 - val_loss: 1.3616 - val_acc: 0.4866\n",
      "Epoch 3/5\n",
      "1500/1500 [==============================] - 174s 116ms/step - loss: 1.4062 - acc: 0.4634 - val_loss: 1.3326 - val_acc: 0.5006\n",
      "Epoch 4/5\n",
      "1500/1500 [==============================] - 161s 107ms/step - loss: 1.3737 - acc: 0.4756 - val_loss: 1.3059 - val_acc: 0.5052\n",
      "Epoch 5/5\n",
      "1500/1500 [==============================] - 162s 108ms/step - loss: 1.3415 - acc: 0.4908 - val_loss: 1.2751 - val_acc: 0.5202\n"
     ]
    },
    {
     "data": {
      "text/plain": [
       "<keras.callbacks.History at 0x23c82cb5ef0>"
      ]
     },
     "execution_count": 10,
     "metadata": {},
     "output_type": "execute_result"
    }
   ],
   "source": [
    "model.fit_generator(\n",
    "        train_generator,\n",
    "        steps_per_epoch=1500,\n",
    "        epochs=20,\n",
    "        validation_data=validation_generator,\n",
    "        validation_steps=800)"
   ]
  },
  {
   "cell_type": "code",
   "execution_count": 11,
   "metadata": {},
   "outputs": [],
   "source": [
    "#fname=\"model-emoji-r3-4-cnn.h5\"\n",
    "#model.save_weights(fname)"
   ]
  },
  {
   "cell_type": "code",
   "execution_count": 4,
   "metadata": {},
   "outputs": [],
   "source": [
    "fname=\"model-emoji-r3-4-cnn.h5\"\n",
    "model.load_weights(fname)"
   ]
  },
  {
   "cell_type": "code",
   "execution_count": 5,
   "metadata": {},
   "outputs": [],
   "source": [
    "cat=['Angry','Disgust','Fear','Happy','Neutral','Sad','Surprise']"
   ]
  },
  {
   "cell_type": "code",
   "execution_count": 6,
   "metadata": {
    "scrolled": true
   },
   "outputs": [
    {
     "data": {
      "text/plain": [
       "(1, 48, 48, 3)"
      ]
     },
     "execution_count": 6,
     "metadata": {},
     "output_type": "execute_result"
    }
   ],
   "source": [
    "img=cv2.imread(\"F:/New folder (3)/New folder (2)/ww5.jpg\")\n",
    "img2=cv2.imread(\"F:/New folder (3)/New folder (2)/Untitled.png\")\n",
    "img3=cv2.imread(\"F:/New folder (3)/New folder (2)/Untitled2.png\")\n",
    "img4=cv2.imread(\"C:/Users/Avinash/Downloads/facial/fer2013/PublicTest/Sad/00026199.jpg\",1)\n",
    "img5=cv2.cvtColor(img4,cv2.COLOR_BGR2RGB)\n",
    "new_array = cv2.resize(img5, (48, 48))  \n",
    "new_array=new_array.reshape(-1, 48, 48, 3)\n",
    "new_array.shape "
   ]
  },
  {
   "cell_type": "code",
   "execution_count": 7,
   "metadata": {},
   "outputs": [
    {
     "data": {
      "text/plain": [
       "<matplotlib.image.AxesImage at 0x2482913ea20>"
      ]
     },
     "execution_count": 7,
     "metadata": {},
     "output_type": "execute_result"
    },
    {
     "data": {
      "image/png": "[encoded data removed]",
      "text/plain": [
       "<Figure size 432x288 with 1 Axes>"
      ]
     },
     "metadata": {},
     "output_type": "display_data"
    }
   ],
   "source": [
    "plt.imshow(img5)"
   ]
  },
  {
   "cell_type": "code",
   "execution_count": 8,
   "metadata": {},
   "outputs": [],
   "source": [
    "pred=model.predict_classes(new_array)"
   ]
  },
  {
   "cell_type": "code",
   "execution_count": 8,
   "metadata": {},
   "outputs": [
    {
     "data": {
      "text/plain": [
       "'Fear'"
      ]
     },
     "execution_count": 8,
     "metadata": {},
     "output_type": "execute_result"
    }
   ],
   "source": [
    "pred=model.predict_classes(new_array)\n",
    "\n",
    "pred[0]\n",
    "\n",
    "cat[pred[0]]"
   ]
  },
  {
   "cell_type": "code",
   "execution_count": 10,
   "metadata": {},
   "outputs": [
    {
     "data": {
      "text/plain": [
       "2"
      ]
     },
     "execution_count": 10,
     "metadata": {},
     "output_type": "execute_result"
    }
   ],
   "source": [
    "pred[0]"
   ]
  },
  {
   "cell_type": "code",
   "execution_count": 9,
   "metadata": {},
   "outputs": [],
   "source": [
    "import os\n",
    "from tqdm import tqdm\n",
    "import cv2"
   ]
  },
  {
   "cell_type": "code",
   "execution_count": 11,
   "metadata": {},
   "outputs": [
    {
     "name": "stderr",
     "output_type": "stream",
     "text": [
      "100%|████████████████████████████████████████████████████████████████████████████████████| 7/7 [00:00<00:00, 11.01it/s]\n"
     ]
    }
   ],
   "source": [
    "datadir='C:/Users/Avinash/Downloads/facial/emoji'\n",
    "path=os.path.join(datadir)\n",
    "emoji=[]\n",
    "i=0\n",
    "for img in tqdm(os.listdir(path)):\n",
    "    img_array=cv2.imread(os.path.join(path,img),1)\n",
    "    img5=cv2.cvtColor(img_array,cv2.COLOR_BGR2RGB)\n",
    "    img6=np.array(img5)\n",
    "    new_array = cv2.resize(img6, (48, 48)) \n",
    "    #print(new_array.shape)\n",
    "    emoji.append(new_array)\n",
    "    "
   ]
  },
  {
   "cell_type": "code",
   "execution_count": 12,
   "metadata": {},
   "outputs": [
    {
     "data": {
      "image/png": "[encoded data removed]",
      "text/plain": [
       "<Figure size 432x288 with 1 Axes>"
      ]
     },
     "metadata": {},
     "output_type": "display_data"
    }
   ],
   "source": [
    "plt.imshow(emoji[6])\n",
    "plt.show()"
   ]
  },
  {
   "cell_type": "code",
   "execution_count": 13,
   "metadata": {},
   "outputs": [],
   "source": [
    "face_cascade=cv2.CascadeClassifier('C:/Users/Avinash/Downloads/frontalFace10/haarcascade_frontalface_default.xml')"
   ]
  },
  {
   "cell_type": "code",
   "execution_count": 14,
   "metadata": {},
   "outputs": [],
   "source": [
    "font=cv2.FONT_HERSHEY_SIMPLEX"
   ]
  },
  {
   "cell_type": "code",
   "execution_count": 14,
   "metadata": {},
   "outputs": [],
   "source": []
  },
  {
   "cell_type": "code",
   "execution_count": 16,
   "metadata": {},
   "outputs": [],
   "source": [
    "cap=cv2.VideoCapture(0)\n",
    "roi_gray=[]\n",
    "pr=0\n",
    "while 1:\n",
    "    ret,img=cap.read()\n",
    "    gray=cv2.cvtColor(img,cv2.COLOR_BGR2RGB)\n",
    "    faces=face_cascade.detectMultiScale(gray,1.3,5)\n",
    "    center=0\n",
    "    for(x,y,w,h) in faces:\n",
    "        if(w>h):\n",
    "            big=w\n",
    "        else:\n",
    "            big=h\n",
    "        cv2.rectangle(img,(x,y),(x+w,y+h),(255,0,0),2)\n",
    "        roi_gray=gray[y:y+h,x:x+w]\n",
    "        roi_color=img[y:y+h,x:x+w]\n",
    "        \n",
    "    k=cv2.waitKey(1) & 0xff\n",
    "    \n",
    "    \n",
    "    temp=cv2.resize(cv2.UMat(roi_gray),(48,48))\n",
    "    cv2.imwrite(\"Tempimg.jpg\",roi_color)\n",
    "    cv2.imwrite(\"face.jpg\",temp)\n",
    "    temp=cv2.imread(\"face.jpg\")\n",
    "    temp=temp/255\n",
    "    pr=model.predict_classes(temp.reshape(1,48,48,3))\n",
    "    my=pr\n",
    "    my2=cat[my[0]]\n",
    "    cv2.putText(img,my2,(20,20),font,1,(255,255,255),2)\n",
    "    for (x,y,w,h) in faces:\n",
    "        emoji1=cv2.resize(emoji[my[0]],(w,h))\n",
    "        img[0:0+h,400:400+w]=emoji1\n",
    "    cv2.imshow('img',img)\n",
    "    #print(img.shape)\n",
    "    \n",
    "    if k==ord('0'):\n",
    "        break\n",
    "cap.release()\n",
    "cv2.destroyAllWindows()"
   ]
  },
  {
   "cell_type": "code",
   "execution_count": null,
   "metadata": {},
   "outputs": [],
   "source": []
  },
  {
   "cell_type": "code",
   "execution_count": 1,
   "metadata": {
    "scrolled": true
   },
   "outputs": [],
   "source": [
    "#cap=cv2.VideoCapture(0)\n",
    "#roi_gray=[]\n",
    "#emoji=[]\n",
    "#pop=0\n",
    "#pr=0\n",
    "#while 1:\n",
    "    #ret,img=cap.read()\n",
    "    #gray=cv2.cvtColor(img,cv2.COLOR_BGR2GRAY)\n",
    "    #faces=face_cascade.detectMultiScale(gray,1.3,5)\n",
    "    #center=0\n",
    "    #for(x,y,w,h) in faces:\n",
    "        #if(w>h):\n",
    "            #big=w\n",
    "        #else:\n",
    "            #big=h\n",
    "        #cv2.rectangle(img,(x,y),(x+w,y+h),(255,0,0),2)\n",
    "        #roi_gray=gray[y:y+h,x:x+w]\n",
    "        #roi_color=img[y:y+h,x:x+w]\n",
    "        #if (pop==1):\n",
    "            #emoji=cv2.imread(\"Tempimg.jpg\")\n",
    "            #emoji=cv2.resize(emoji,(w,h))\n",
    "            #print(emoji) \n",
    "            #img[y:y+h,x:x+w]=emoji\n",
    "            #print(cat[my[0]])\n",
    "            #print(img[y:y+h,x:x+w])\n",
    "    #k=cv2.waitKey(30) & 0xff\n",
    "    #if(k==ord('1')):\n",
    "        #temp=cv2.resize(roi_gray,(48,48))\n",
    "        #cv2.imwrite(\"Tempimg.jpg\",roi_color)\n",
    "        #cv2.imwrite(\"face.jpg\",temp)\n",
    "        #temp=cv2.imread(\"face.jpg\")\n",
    "        #temp=temp/255\n",
    "        #pr=model.predict_classes(temp.reshape(1,48,48,3))\n",
    "        #my=pr\n",
    "        #print(pr)\n",
    "        #print(cat[my[0]])\n",
    "        #pop=1\n",
    "    #img=imutils.resize(img,width=1280)\n",
    "    #cv2.putText(img,'Hello world!',(10,10),font,5,(255,255,255),2)\n",
    "    #cv2.imshow('img',img)\n",
    "    \n",
    "    \n",
    "    #if k==ord('0'):\n",
    "        #break\n",
    "#cap.release()\n",
    "#cv2.destroyAllWindows()"
   ]
  },
  {
   "cell_type": "code",
   "execution_count": null,
   "metadata": {},
   "outputs": [],
   "source": []
  },
  {
   "cell_type": "code",
   "execution_count": 27,
   "metadata": {
    "scrolled": true
   },
   "outputs": [
    {
     "name": "stdout",
     "output_type": "stream",
     "text": [
      "uint8\n",
      "uint8\n",
      "uint8\n",
      "uint8\n",
      "uint8\n",
      "uint8\n",
      "uint8\n",
      "uint8\n",
      "uint8\n",
      "uint8\n",
      "uint8\n",
      "uint8\n",
      "uint8\n",
      "uint8\n",
      "uint8\n",
      "uint8\n",
      "uint8\n",
      "uint8\n",
      "uint8\n",
      "uint8\n",
      "uint8\n",
      "uint8\n",
      "uint8\n",
      "uint8\n"
     ]
    }
   ],
   "source": [
    "cap=cv2.VideoCapture(0)\n",
    "while(True):\n",
    "    # Capture frame-by-frame\n",
    "    ret, frame = cap.read()\n",
    "    print(frame.dtype)\n",
    "    my=ret\n",
    "    my_img=frame\n",
    "    # Our operations on the frame come here\n",
    "    gray = cv2.cvtColor(frame, cv2.COLOR_BGR2GRAY)\n",
    "    # Display the resulting frame\n",
    "    cv2.imshow('frame',gray)\n",
    "    if cv2.waitKey(1) & 0xFF == ord('q'):\n",
    "        break\n",
    "    # When everything done, release the capture\n",
    "cap.release()\n",
    "cv2.destroyAllWindows()"
   ]
  },
  {
   "cell_type": "code",
   "execution_count": null,
   "metadata": {},
   "outputs": [],
   "source": []
  },
  {
   "cell_type": "code",
   "execution_count": null,
   "metadata": {},
   "outputs": [],
   "source": []
  },
  {
   "cell_type": "code",
   "execution_count": null,
   "metadata": {},
   "outputs": [],
   "source": []
  },
  {
   "cell_type": "code",
   "execution_count": null,
   "metadata": {},
   "outputs": [],
   "source": []
  },
  {
   "cell_type": "code",
   "execution_count": null,
   "metadata": {},
   "outputs": [],
   "source": []
  },
  {
   "cell_type": "code",
   "execution_count": null,
   "metadata": {},
   "outputs": [],
   "source": []
  }
 ],
 "metadata": {
  "kernelspec": {
   "display_name": "Python 3",
   "language": "python",
   "name": "python3"
  },
  "language_info": {
   "codemirror_mode": {
    "name": "ipython",
    "version": 3
   },
   "file_extension": ".py",
   "mimetype": "text/x-python",
   "name": "python",
   "nbconvert_exporter": "python",
   "pygments_lexer": "ipython3",
   "version": "3.6.5"
  }
 },
 "nbformat": 4,
 "nbformat_minor": 2
}
